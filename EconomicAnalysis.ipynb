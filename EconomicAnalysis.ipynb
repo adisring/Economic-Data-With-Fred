{
 "cells": [
  {
   "cell_type": "code",
   "execution_count": 9,
   "id": "3b6424b8-cbff-4094-ac8e-a76aedd0dfd6",
   "metadata": {},
   "outputs": [],
   "source": [
    "!pip install fredapi > null\n"
   ]
  },
  {
   "cell_type": "code",
   "execution_count": 23,
   "id": "8c86ba27-ba6e-4afd-832b-0c445f3c1c9c",
   "metadata": {},
   "outputs": [],
   "source": [
    "import pandas as pd\n",
    "import numpy as np\n",
    "import matplotlib.pyplot as plt\n",
    "import plotly.express as px\n",
    "\n",
    "plt.style.use('fivethirtyeight')\n",
    "pd.set_option('display.max_columns', 500)\n",
    "color_pal = plt.rcParams[\"axes.prop_cycle\"].by_key()[\"color\"]\n",
    "\n",
    "from fredapi import Fred\n"
   ]
  },
  {
   "cell_type": "code",
   "execution_count": 25,
   "id": "593a7ef3-a588-4cc5-9849-24c45b355194",
   "metadata": {},
   "outputs": [],
   "source": [
    "fred_key = '42123b6d2f54c162c85ddecc8f077c78'"
   ]
  },
  {
   "cell_type": "markdown",
   "id": "70a36db0-ccf2-42c3-a2cb-6cbab0db3dad",
   "metadata": {},
   "source": [
    "# 1. Create the fred object"
   ]
  },
  {
   "cell_type": "code",
   "execution_count": 28,
   "id": "1c0cde66-9ce2-44df-a9ca-9a4e0e7252e8",
   "metadata": {},
   "outputs": [],
   "source": [
    "fred = Fred(api_key = fred_key)"
   ]
  },
  {
   "cell_type": "markdown",
   "id": "482b358e-9cad-42f7-9dec-a9311fe81c46",
   "metadata": {},
   "source": [
    "# 2. Search Fred for economic data"
   ]
  },
  {
   "cell_type": "code",
   "execution_count": null,
   "id": "ab8fef4a-fdf4-429a-affd-c13147c5e3bf",
   "metadata": {},
   "outputs": [],
   "source": []
  }
 ],
 "metadata": {
  "kernelspec": {
   "display_name": "Python 3 (ipykernel)",
   "language": "python",
   "name": "python3"
  },
  "language_info": {
   "codemirror_mode": {
    "name": "ipython",
    "version": 3
   },
   "file_extension": ".py",
   "mimetype": "text/x-python",
   "name": "python",
   "nbconvert_exporter": "python",
   "pygments_lexer": "ipython3",
   "version": "3.12.4"
  }
 },
 "nbformat": 4,
 "nbformat_minor": 5
}
